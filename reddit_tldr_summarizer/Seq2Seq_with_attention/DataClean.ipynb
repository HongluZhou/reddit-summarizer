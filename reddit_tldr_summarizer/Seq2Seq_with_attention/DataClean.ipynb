{
 "cells": [
  {
   "cell_type": "code",
   "execution_count": 86,
   "metadata": {},
   "outputs": [],
   "source": [
    "import re\n",
    "import pymongo\n",
    "from collections import Counter\n",
    "import numpy as np\n",
    "import matplotlib as mpl\n",
    "from matplotlib import pyplot as plt"
   ]
  },
  {
   "cell_type": "code",
   "execution_count": 2,
   "metadata": {},
   "outputs": [],
   "source": [
    "client = pymongo.MongoClient()\n",
    "db = client['test']\n",
    "tldr = db['tldr']\n",
    "tldrcl = db['tldr_clean']"
   ]
  },
  {
   "cell_type": "code",
   "execution_count": 138,
   "metadata": {},
   "outputs": [],
   "source": [
    "def cleanstr(text):\n",
    "    text = text.lower()\n",
    "    # replace parenthesis by comma\n",
    "    text = re.sub(r'\\s*[\\(\\)]', ' , ', text)\n",
    "    # remove annoying signs\n",
    "    text = re.sub(r'[^A-Za-z\\,\\.\\?\\']+', r\" \", text)\n",
    "    # keep first sign in sequence of sign\n",
    "    text = re.sub(r'\\s*([\\,\\.\\?\\' ])([\\,\\.\\?\\' ]+|$)', r\" \\1 \", text)\n",
    "    # remove surrounded signs\n",
    "    text = re.sub(r'[^A-Za-z]*([A-Za-z]+)[^A-Za-z]*', r\" \\1 \", text)\n",
    "    # compress spaces\n",
    "    text = re.sub(r'\\s\\s+', r\" \", text)\n",
    "    return text.strip()\n",
    "\n",
    "class LanguageIndex():\n",
    "    def __init__(self):\n",
    "        self.word2idx = {}\n",
    "        self.idx2word = {}\n",
    "        self.vocab = Counter()\n",
    "        \n",
    "    def create_index(self):\n",
    "        self.word2idx = {}\n",
    "        self.idx2word = {}\n",
    "        self.vocab = sorted(\n",
    "            w\n",
    "            for w, num in self.vocab.items()\n",
    "            if num > 18500\n",
    "        )\n",
    "        self.word2idx[\"<pad>\"] = 0\n",
    "        self.idx2word[0] = \"<pad>\"\n",
    "        self.word2idx[\"<noword>\"] = 1\n",
    "        self.idx2word[1] = \"<noword>\"\n",
    "        self.word2idx[\"<start>\"] = 2\n",
    "        self.idx2word[2] = \"<start>\"\n",
    "        self.word2idx[\"<end>\"] = 3\n",
    "        self.idx2word[3] = \"<end>\"\n",
    "        \n",
    "        for i,word in enumerate(self.vocab):\n",
    "            self.word2idx[word] = i + 4\n",
    "            self.idx2word[i+4] = word\n",
    "            \n",
    "    def update_vocab(self, text):\n",
    "        self.vocab.update(text.split())\n",
    "        \n",
    "LangIdx = LanguageIndex()"
   ]
  },
  {
   "cell_type": "code",
   "execution_count": 12,
   "metadata": {},
   "outputs": [],
   "source": [
    "import time, sys\n",
    "from IPython.display import clear_output\n",
    "\n",
    "def update_progress(progress):\n",
    "    bar_length = 20\n",
    "    if isinstance(progress, int):\n",
    "        progress = float(progress)\n",
    "    if not isinstance(progress, float):\n",
    "        progress = 0\n",
    "    if progress < 0:\n",
    "        progress = 0\n",
    "    if progress >= 1:\n",
    "        progress = 1\n",
    "    block = int(round(bar_length * progress))\n",
    "    clear_output(wait = True)\n",
    "    text = \"Progress: [{0}] {1:.1f}%\".format( \"#\" * block + \"-\" * (bar_length - block), progress * 100)\n",
    "    print(text)"
   ]
  },
  {
   "cell_type": "code",
   "execution_count": 103,
   "metadata": {},
   "outputs": [
    {
     "name": "stdout",
     "output_type": "stream",
     "text": [
      "Progress: [####################] 100.0%\n"
     ]
    }
   ],
   "source": [
    "# tldrcl.drop()\n",
    "datalen = tldr.estimated_document_count()\n",
    "\n",
    "for idx, data in enumerate(tldr.find({})):\n",
    "    dataid  = data['_id']\n",
    "    \n",
    "    content = data['content']\n",
    "    content = cleanstr(content)\n",
    "    summary = data['summary']\n",
    "    summary = cleanstr(summary)\n",
    "    \n",
    "    LangIdx.update_vocab(content)\n",
    "    LangIdx.update_vocab(summary)\n",
    "    \n",
    "    tldrcl.insert_one(\n",
    "        {\n",
    "            \"_id\": dataid,\n",
    "            \"content\": content,\n",
    "            \"summary\": summary\n",
    "        }                   \n",
    "    )\n",
    "    if (idx % 1000 == 0):\n",
    "        update_progress(idx / datalen)"
   ]
  },
  {
   "cell_type": "code",
   "execution_count": 73,
   "metadata": {},
   "outputs": [
    {
     "name": "stdout",
     "output_type": "stream",
     "text": [
      "Progress: [####################] 100.0%\n"
     ]
    }
   ],
   "source": [
    "datalen = tldrcl.estimated_document_count()\n",
    "\n",
    "for idx, data in enumerate(tldrcl.find({})):\n",
    "    LangIdx.update_vocab(data['summary'])\n",
    "    LangIdx.update_vocab(data['content'])\n",
    "    if (idx % 1000 == 0):\n",
    "        update_progress(idx / datalen)"
   ]
  },
  {
   "cell_type": "code",
   "execution_count": 158,
   "metadata": {
    "scrolled": false
   },
   "outputs": [
    {
     "name": "stdout",
     "output_type": "stream",
     "text": [
      "2460\n"
     ]
    }
   ],
   "source": [
    "LangIdx.vocab = store\n",
    "LangIdx.create_index()\n",
    "print(len(LangIdx.vocab))"
   ]
  },
  {
   "cell_type": "code",
   "execution_count": 134,
   "metadata": {},
   "outputs": [],
   "source": [
    "import json\n",
    "with open('vocab.txt', 'w') as f:\n",
    "    json.dump(store, f)"
   ]
  },
  {
   "cell_type": "code",
   "execution_count": 173,
   "metadata": {},
   "outputs": [
    {
     "name": "stdout",
     "output_type": "stream",
     "text": [
      "Progress: [####################] 100.0%\n"
     ]
    }
   ],
   "source": [
    "def looseword2idx(word):\n",
    "    return LangIdx.word2idx.get(word, 1)\n",
    "\n",
    "datalen = tldrcl.estimated_document_count()\n",
    "\n",
    "for idx, data in enumerate(tldrcl.find({})):\n",
    "    summary_words = data['summary'].split()\n",
    "    content_words = data['content'].split()\n",
    "    \n",
    "    tldrcl.update_one(\n",
    "        {'_id': data['_id']},\n",
    "        {'$set': {\n",
    "            'summary_vec_must_word': [looseword2idx(w) for w in summary_words if looseword2idx(w) != 1],\n",
    "            'content_vec_must_word': [looseword2idx(w) for w in content_words if looseword2idx(w) != 1],\n",
    "        }}\n",
    "    )\n",
    "    \n",
    "    if (idx % 1000 == 0):\n",
    "        update_progress(idx / datalen)"
   ]
  },
  {
   "cell_type": "code",
   "execution_count": 156,
   "metadata": {
    "scrolled": false
   },
   "outputs": [
    {
     "data": {
      "text/plain": [
       "<pymongo.results.DeleteResult at 0x7fef31eb71c8>"
      ]
     },
     "execution_count": 156,
     "metadata": {},
     "output_type": "execute_result"
    }
   ],
   "source": [
    "tldrcl.delete_many(\n",
    "    {\n",
    "        'content_len': {'$lt': 125}\n",
    "    })"
   ]
  },
  {
   "cell_type": "code",
   "execution_count": 147,
   "metadata": {
    "scrolled": false
   },
   "outputs": [
    {
     "name": "stderr",
     "output_type": "stream",
     "text": [
      "/home/kaidong/.installed/conda/envs/tf/lib/python3.6/site-packages/ipykernel_launcher.py:5: DeprecationWarning: remove is deprecated. Use delete_one or delete_many instead.\n",
      "  \"\"\"\n"
     ]
    },
    {
     "data": {
      "text/plain": [
       "{'n': 719266, 'ok': 1.0}"
      ]
     },
     "execution_count": 147,
     "metadata": {},
     "output_type": "execute_result"
    }
   ],
   "source": [
    "tldrcl.delete_many(\n",
    "    {\n",
    "        '$or': [\n",
    "            {'summary_len': {'$gt': 28}},\n",
    "            {'content_len': {'$gt': 295}}\n",
    "        ]\n",
    "    })"
   ]
  },
  {
   "cell_type": "code",
   "execution_count": 157,
   "metadata": {},
   "outputs": [
    {
     "data": {
      "text/plain": [
       "1699783"
      ]
     },
     "execution_count": 157,
     "metadata": {},
     "output_type": "execute_result"
    }
   ],
   "source": [
    "tldrcl.estimated_document_count()"
   ]
  },
  {
   "cell_type": "code",
   "execution_count": null,
   "metadata": {},
   "outputs": [],
   "source": []
  },
  {
   "cell_type": "code",
   "execution_count": 170,
   "metadata": {
    "scrolled": false
   },
   "outputs": [],
   "source": [
    "t=[*range(10)]"
   ]
  },
  {
   "cell_type": "code",
   "execution_count": 171,
   "metadata": {},
   "outputs": [],
   "source": [
    "t.remove(1)"
   ]
  },
  {
   "cell_type": "code",
   "execution_count": 172,
   "metadata": {},
   "outputs": [
    {
     "data": {
      "text/plain": [
       "[0, 2, 3, 4, 5, 6, 7, 8, 9]"
      ]
     },
     "execution_count": 172,
     "metadata": {},
     "output_type": "execute_result"
    }
   ],
   "source": [
    "t"
   ]
  },
  {
   "cell_type": "code",
   "execution_count": null,
   "metadata": {},
   "outputs": [],
   "source": []
  }
 ],
 "metadata": {
  "kernelspec": {
   "display_name": "Python 3",
   "language": "python",
   "name": "python3"
  },
  "language_info": {
   "codemirror_mode": {
    "name": "ipython",
    "version": 3
   },
   "file_extension": ".py",
   "mimetype": "text/x-python",
   "name": "python",
   "nbconvert_exporter": "python",
   "pygments_lexer": "ipython3",
   "version": "3.6.7"
  }
 },
 "nbformat": 4,
 "nbformat_minor": 2
}
